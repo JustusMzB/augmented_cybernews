{
 "cells": [
  {
   "cell_type": "code",
   "execution_count": 2,
   "metadata": {},
   "outputs": [
    {
     "name": "stderr",
     "output_type": "stream",
     "text": [
      "[nltk_data] Downloading package vader_lexicon to\n",
      "[nltk_data]     /home/justus/nltk_data...\n",
      "[nltk_data]   Package vader_lexicon is already up-to-date!\n"
     ]
    }
   ],
   "source": [
    "import polars as pl\n",
    "import spacy\n",
    "from multiprocessing import Pool\n",
    "from tqdm import tqdm\n",
    "import nltk\n",
    "nltk.download('vader_lexicon')\n",
    "from nltk.sentiment.vader import SentimentIntensityAnalyzer\n",
    "nlp = spacy.load(\"en_core_web_lg\")"
   ]
  },
  {
   "cell_type": "code",
   "execution_count": 3,
   "metadata": {},
   "outputs": [],
   "source": [
    "\n",
    "\n",
    "data = pl.read_csv(\"../../data/jazeera_qatar_fifa_2010-2023/articles.csv\")\n",
    "data_filtered = data"
   ]
  },
  {
   "cell_type": "code",
   "execution_count": 3,
   "metadata": {},
   "outputs": [],
   "source": [
    "data = data_filtered"
   ]
  },
  {
   "cell_type": "code",
   "execution_count": 4,
   "metadata": {},
   "outputs": [],
   "source": [
    "lazy_frame = pl.LazyFrame(data.select([\"date\", \"title\", \"url\", \"paragraphs_text\"])).with_columns(pl.col(\"paragraphs_text\").map_elements(lambda x: [i.text for i in nlp(x).sents]).alias(\"sentence\")).select([\"title\", \"date\", \"url\", \"sentence\"]).explode(\"sentence\")"
   ]
  },
  {
   "cell_type": "code",
   "execution_count": 5,
   "metadata": {},
   "outputs": [
    {
     "data": {
      "image/svg+xml": [
       "<svg xmlns=\"http://www.w3.org/2000/svg\" xmlns:xlink=\"http://www.w3.org/1999/xlink\" width=\"326pt\" height=\"277pt\" viewBox=\"0.00 0.00 326.00 277.00\">\n",
       "<g id=\"graph0\" class=\"graph\" transform=\"scale(1 1) rotate(0) translate(4 273)\">\n",
       "<title>polars_query</title>\n",
       "<polygon fill=\"white\" stroke=\"transparent\" points=\"-4,4 -4,-273 322,-273 322,4 -4,4\"/>\n",
       "<!-- EXPLODE [(0, 0)] -->\n",
       "<g id=\"node1\" class=\"node\">\n",
       "<title>EXPLODE [(0, 0)]</title>\n",
       "<polygon fill=\"none\" stroke=\"black\" points=\"203.5,-269 114.5,-269 114.5,-233 203.5,-233 203.5,-269\"/>\n",
       "<text text-anchor=\"middle\" x=\"159\" y=\"-247.3\" font-family=\"Times,serif\" font-size=\"14.00\">EXPLODE</text>\n",
       "</g>\n",
       "<!-- FAST_PROJECT: [title, date, url, sentence] [(0, 1)] -->\n",
       "<g id=\"node2\" class=\"node\">\n",
       "<title>FAST_PROJECT: [title, date, url, sentence] [(0, 1)]</title>\n",
       "<polygon fill=\"none\" stroke=\"black\" points=\"318,-197 0,-197 0,-161 318,-161 318,-197\"/>\n",
       "<text text-anchor=\"middle\" x=\"159\" y=\"-175.3\" font-family=\"Times,serif\" font-size=\"14.00\">FAST_PROJECT: [title, date, url, sentence]</text>\n",
       "</g>\n",
       "<!-- EXPLODE [(0, 0)]&#45;&#45;FAST_PROJECT: [title, date, url, sentence] [(0, 1)] -->\n",
       "<g id=\"edge1\" class=\"edge\">\n",
       "<title>EXPLODE [(0, 0)]--FAST_PROJECT: [title, date, url, sentence] [(0, 1)]</title>\n",
       "<path fill=\"none\" stroke=\"black\" d=\"M159,-232.7C159,-221.85 159,-207.92 159,-197.1\"/>\n",
       "</g>\n",
       "<!-- WITH COLUMNS [&quot;sentence&quot;] [(0, 2)] -->\n",
       "<g id=\"node3\" class=\"node\">\n",
       "<title>WITH COLUMNS [&quot;sentence&quot;] [(0, 2)]</title>\n",
       "<polygon fill=\"none\" stroke=\"black\" points=\"275,-125 43,-125 43,-89 275,-89 275,-125\"/>\n",
       "<text text-anchor=\"middle\" x=\"159\" y=\"-103.3\" font-family=\"Times,serif\" font-size=\"14.00\">WITH COLUMNS [&quot;sentence&quot;]</text>\n",
       "</g>\n",
       "<!-- FAST_PROJECT: [title, date, url, sentence] [(0, 1)]&#45;&#45;WITH COLUMNS [&quot;sentence&quot;] [(0, 2)] -->\n",
       "<g id=\"edge2\" class=\"edge\">\n",
       "<title>FAST_PROJECT: [title, date, url, sentence] [(0, 1)]--WITH COLUMNS [&quot;sentence&quot;] [(0, 2)]</title>\n",
       "<path fill=\"none\" stroke=\"black\" d=\"M159,-160.7C159,-149.85 159,-135.92 159,-125.1\"/>\n",
       "</g>\n",
       "<!-- TABLE\n",
       "π 4/4;\n",
       "σ &#45;; [(0, 3)] -->\n",
       "<g id=\"node4\" class=\"node\">\n",
       "<title>TABLE\n",
       "π 4/4;\n",
       "σ -; [(0, 3)]</title>\n",
       "<polygon fill=\"none\" stroke=\"black\" points=\"191.5,-53 126.5,-53 126.5,0 191.5,0 191.5,-53\"/>\n",
       "<text text-anchor=\"middle\" x=\"159\" y=\"-37.8\" font-family=\"Times,serif\" font-size=\"14.00\">TABLE</text>\n",
       "<text text-anchor=\"middle\" x=\"159\" y=\"-22.8\" font-family=\"Times,serif\" font-size=\"14.00\">π 4/4;</text>\n",
       "<text text-anchor=\"middle\" x=\"159\" y=\"-7.8\" font-family=\"Times,serif\" font-size=\"14.00\">σ -;</text>\n",
       "</g>\n",
       "<!-- WITH COLUMNS [&quot;sentence&quot;] [(0, 2)]&#45;&#45;TABLE\n",
       "π 4/4;\n",
       "σ &#45;; [(0, 3)] -->\n",
       "<g id=\"edge3\" class=\"edge\">\n",
       "<title>WITH COLUMNS [&quot;sentence&quot;] [(0, 2)]--TABLE\n",
       "π 4/4;\n",
       "σ -; [(0, 3)]</title>\n",
       "<path fill=\"none\" stroke=\"black\" d=\"M159,-88.97C159,-78.51 159,-64.9 159,-53.16\"/>\n",
       "</g>\n",
       "</g>\n",
       "</svg>"
      ],
      "text/plain": [
       "<IPython.core.display.SVG object>"
      ]
     },
     "metadata": {},
     "output_type": "display_data"
    }
   ],
   "source": [
    "lazy_frame.show_graph()"
   ]
  },
  {
   "cell_type": "code",
   "execution_count": 6,
   "metadata": {},
   "outputs": [
    {
     "data": {
      "image/svg+xml": [
       "<svg xmlns=\"http://www.w3.org/2000/svg\" xmlns:xlink=\"http://www.w3.org/1999/xlink\" width=\"326pt\" height=\"349pt\" viewBox=\"0.00 0.00 326.00 349.00\">\n",
       "<g id=\"graph0\" class=\"graph\" transform=\"scale(1 1) rotate(0) translate(4 345)\">\n",
       "<title>polars_query</title>\n",
       "<polygon fill=\"white\" stroke=\"transparent\" points=\"-4,4 -4,-345 322,-345 322,4 -4,4\"/>\n",
       "<!-- WITH COLUMNS [&quot;title&quot;] [(0, 0)] -->\n",
       "<g id=\"node1\" class=\"node\">\n",
       "<title>WITH COLUMNS [&quot;title&quot;] [(0, 0)]</title>\n",
       "<polygon fill=\"none\" stroke=\"black\" points=\"257.5,-341 60.5,-341 60.5,-305 257.5,-305 257.5,-341\"/>\n",
       "<text text-anchor=\"middle\" x=\"159\" y=\"-319.3\" font-family=\"Times,serif\" font-size=\"14.00\">WITH COLUMNS [&quot;title&quot;]</text>\n",
       "</g>\n",
       "<!-- EXPLODE [(0, 1)] -->\n",
       "<g id=\"node2\" class=\"node\">\n",
       "<title>EXPLODE [(0, 1)]</title>\n",
       "<polygon fill=\"none\" stroke=\"black\" points=\"203.5,-269 114.5,-269 114.5,-233 203.5,-233 203.5,-269\"/>\n",
       "<text text-anchor=\"middle\" x=\"159\" y=\"-247.3\" font-family=\"Times,serif\" font-size=\"14.00\">EXPLODE</text>\n",
       "</g>\n",
       "<!-- WITH COLUMNS [&quot;title&quot;] [(0, 0)]&#45;&#45;EXPLODE [(0, 1)] -->\n",
       "<g id=\"edge1\" class=\"edge\">\n",
       "<title>WITH COLUMNS [&quot;title&quot;] [(0, 0)]--EXPLODE [(0, 1)]</title>\n",
       "<path fill=\"none\" stroke=\"black\" d=\"M159,-304.7C159,-293.85 159,-279.92 159,-269.1\"/>\n",
       "</g>\n",
       "<!-- FAST_PROJECT: [title, date, url, sentence] [(0, 2)] -->\n",
       "<g id=\"node3\" class=\"node\">\n",
       "<title>FAST_PROJECT: [title, date, url, sentence] [(0, 2)]</title>\n",
       "<polygon fill=\"none\" stroke=\"black\" points=\"318,-197 0,-197 0,-161 318,-161 318,-197\"/>\n",
       "<text text-anchor=\"middle\" x=\"159\" y=\"-175.3\" font-family=\"Times,serif\" font-size=\"14.00\">FAST_PROJECT: [title, date, url, sentence]</text>\n",
       "</g>\n",
       "<!-- EXPLODE [(0, 1)]&#45;&#45;FAST_PROJECT: [title, date, url, sentence] [(0, 2)] -->\n",
       "<g id=\"edge2\" class=\"edge\">\n",
       "<title>EXPLODE [(0, 1)]--FAST_PROJECT: [title, date, url, sentence] [(0, 2)]</title>\n",
       "<path fill=\"none\" stroke=\"black\" d=\"M159,-232.7C159,-221.85 159,-207.92 159,-197.1\"/>\n",
       "</g>\n",
       "<!-- WITH COLUMNS [&quot;sentence&quot;] [(0, 3)] -->\n",
       "<g id=\"node4\" class=\"node\">\n",
       "<title>WITH COLUMNS [&quot;sentence&quot;] [(0, 3)]</title>\n",
       "<polygon fill=\"none\" stroke=\"black\" points=\"275,-125 43,-125 43,-89 275,-89 275,-125\"/>\n",
       "<text text-anchor=\"middle\" x=\"159\" y=\"-103.3\" font-family=\"Times,serif\" font-size=\"14.00\">WITH COLUMNS [&quot;sentence&quot;]</text>\n",
       "</g>\n",
       "<!-- FAST_PROJECT: [title, date, url, sentence] [(0, 2)]&#45;&#45;WITH COLUMNS [&quot;sentence&quot;] [(0, 3)] -->\n",
       "<g id=\"edge3\" class=\"edge\">\n",
       "<title>FAST_PROJECT: [title, date, url, sentence] [(0, 2)]--WITH COLUMNS [&quot;sentence&quot;] [(0, 3)]</title>\n",
       "<path fill=\"none\" stroke=\"black\" d=\"M159,-160.7C159,-149.85 159,-135.92 159,-125.1\"/>\n",
       "</g>\n",
       "<!-- TABLE\n",
       "π 4/4;\n",
       "σ &#45;; [(0, 4)] -->\n",
       "<g id=\"node5\" class=\"node\">\n",
       "<title>TABLE\n",
       "π 4/4;\n",
       "σ -; [(0, 4)]</title>\n",
       "<polygon fill=\"none\" stroke=\"black\" points=\"191.5,-53 126.5,-53 126.5,0 191.5,0 191.5,-53\"/>\n",
       "<text text-anchor=\"middle\" x=\"159\" y=\"-37.8\" font-family=\"Times,serif\" font-size=\"14.00\">TABLE</text>\n",
       "<text text-anchor=\"middle\" x=\"159\" y=\"-22.8\" font-family=\"Times,serif\" font-size=\"14.00\">π 4/4;</text>\n",
       "<text text-anchor=\"middle\" x=\"159\" y=\"-7.8\" font-family=\"Times,serif\" font-size=\"14.00\">σ -;</text>\n",
       "</g>\n",
       "<!-- WITH COLUMNS [&quot;sentence&quot;] [(0, 3)]&#45;&#45;TABLE\n",
       "π 4/4;\n",
       "σ &#45;; [(0, 4)] -->\n",
       "<g id=\"edge4\" class=\"edge\">\n",
       "<title>WITH COLUMNS [&quot;sentence&quot;] [(0, 3)]--TABLE\n",
       "π 4/4;\n",
       "σ -; [(0, 4)]</title>\n",
       "<path fill=\"none\" stroke=\"black\" d=\"M159,-88.97C159,-78.51 159,-64.9 159,-53.16\"/>\n",
       "</g>\n",
       "</g>\n",
       "</svg>"
      ],
      "text/plain": [
       "<IPython.core.display.SVG object>"
      ]
     },
     "metadata": {},
     "output_type": "display_data"
    }
   ],
   "source": [
    "df = lazy_frame.with_columns(pl.col(\"title\").str.split(\" | \").map_elements(lambda splitlist: splitlist[0]))\n",
    "df.show_graph()"
   ]
  },
  {
   "cell_type": "code",
   "execution_count": 7,
   "metadata": {},
   "outputs": [],
   "source": [
    "df.sink_csv(\"../../data/jazeera_qatar_fifa_2010-2023/jazeera_sentences_sink_shortened_titles.csv\")"
   ]
  },
  {
   "cell_type": "code",
   "execution_count": 8,
   "metadata": {},
   "outputs": [],
   "source": [
    "df = pl.scan_csv(\"out/jazeera_sentences_sink_shortened_titles.csv\")\n",
    "df = df.with_columns(pl.col(\"sentence\").str.to_lowercase().map_elements(lambda sent: \" \".join([tok.text for tok in nlp(sent) if not tok.is_stop])))\n",
    "df = df.with_columns(pl.col(\"sentence\").map_elements(lambda sent: [ent.lemma_ for ent in nlp(sent).ents]).alias(\"entities\"))\n",
    "hist = df.select(pl.col(\"entities\")).explode(pl.col(\"entities\")).drop_nulls().group_by(pl.col(\"entities\")).count().sort(\"count\", descending=True)\n"
   ]
  },
  {
   "cell_type": "code",
   "execution_count": 9,
   "metadata": {},
   "outputs": [],
   "source": [
    "sentences = pl.scan_csv(\"../../data/jazeera_qatar_fifa_2010-2023/jazeera_sentences_sink_shortened_titles.csv\").collect()\n",
    "\n",
    "sents_containing = hist.head(200).with_columns(\n",
    "    pl.col(\"entities\")\n",
    "    .map_elements(lambda ent: sentences.select(\"sentence\")\n",
    "        .filter(pl.col(\"sentence\").str.to_lowercase().str.contains(ent)))\n",
    "        .map_elements(lambda df_: df_.to_numpy().tolist())\n",
    "        .alias(\"sentences\")\n",
    ")"
   ]
  },
  {
   "cell_type": "code",
   "execution_count": 10,
   "metadata": {},
   "outputs": [
    {
     "data": {
      "image/svg+xml": [
       "<svg xmlns=\"http://www.w3.org/2000/svg\" xmlns:xlink=\"http://www.w3.org/1999/xlink\" width=\"450pt\" height=\"654pt\" viewBox=\"0.00 0.00 450.00 654.00\">\n",
       "<g id=\"graph0\" class=\"graph\" transform=\"scale(1 1) rotate(0) translate(4 650)\">\n",
       "<title>polars_query</title>\n",
       "<polygon fill=\"white\" stroke=\"transparent\" points=\"-4,4 -4,-650 446,-650 446,4 -4,4\"/>\n",
       "<!-- WITH COLUMNS [&quot;sentences&quot;] [(0, 0)] -->\n",
       "<g id=\"node1\" class=\"node\">\n",
       "<title>WITH COLUMNS [&quot;sentences&quot;] [(0, 0)]</title>\n",
       "<polygon fill=\"none\" stroke=\"black\" points=\"340.5,-646 101.5,-646 101.5,-610 340.5,-610 340.5,-646\"/>\n",
       "<text text-anchor=\"middle\" x=\"221\" y=\"-624.3\" font-family=\"Times,serif\" font-size=\"14.00\">WITH COLUMNS [&quot;sentences&quot;]</text>\n",
       "</g>\n",
       "<!-- SORT BY [col(&quot;count&quot;)] [(0, 1)] -->\n",
       "<g id=\"node2\" class=\"node\">\n",
       "<title>SORT BY [col(&quot;count&quot;)] [(0, 1)]</title>\n",
       "<polygon fill=\"none\" stroke=\"black\" points=\"310.5,-574 131.5,-574 131.5,-538 310.5,-538 310.5,-574\"/>\n",
       "<text text-anchor=\"middle\" x=\"221\" y=\"-552.3\" font-family=\"Times,serif\" font-size=\"14.00\">SORT BY [col(&quot;count&quot;)]</text>\n",
       "</g>\n",
       "<!-- WITH COLUMNS [&quot;sentences&quot;] [(0, 0)]&#45;&#45;SORT BY [col(&quot;count&quot;)] [(0, 1)] -->\n",
       "<g id=\"edge1\" class=\"edge\">\n",
       "<title>WITH COLUMNS [&quot;sentences&quot;] [(0, 0)]--SORT BY [col(&quot;count&quot;)] [(0, 1)]</title>\n",
       "<path fill=\"none\" stroke=\"black\" d=\"M221,-609.7C221,-598.85 221,-584.92 221,-574.1\"/>\n",
       "</g>\n",
       "<!-- AGG [count()]\n",
       "BY\n",
       "[col(&quot;entities&quot;)] [(0, 2)] [(0, 2)] -->\n",
       "<g id=\"node3\" class=\"node\">\n",
       "<title>AGG [count()]\n",
       "BY\n",
       "[col(&quot;entities&quot;)] [(0, 2)] [(0, 2)]</title>\n",
       "<polygon fill=\"none\" stroke=\"black\" points=\"310,-502 132,-502 132,-449 310,-449 310,-502\"/>\n",
       "<text text-anchor=\"middle\" x=\"221\" y=\"-486.8\" font-family=\"Times,serif\" font-size=\"14.00\">AGG [count()]</text>\n",
       "<text text-anchor=\"middle\" x=\"221\" y=\"-471.8\" font-family=\"Times,serif\" font-size=\"14.00\">BY</text>\n",
       "<text text-anchor=\"middle\" x=\"221\" y=\"-456.8\" font-family=\"Times,serif\" font-size=\"14.00\">[col(&quot;entities&quot;)] [(0, 2)]</text>\n",
       "</g>\n",
       "<!-- SORT BY [col(&quot;count&quot;)] [(0, 1)]&#45;&#45;AGG [count()]\n",
       "BY\n",
       "[col(&quot;entities&quot;)] [(0, 2)] [(0, 2)] -->\n",
       "<g id=\"edge2\" class=\"edge\">\n",
       "<title>SORT BY [col(&quot;count&quot;)] [(0, 1)]--AGG [count()]\n",
       "BY\n",
       "[col(&quot;entities&quot;)] [(0, 2)] [(0, 2)]</title>\n",
       "<path fill=\"none\" stroke=\"black\" d=\"M221,-537.97C221,-527.51 221,-513.9 221,-502.16\"/>\n",
       "</g>\n",
       "<!-- DROP_NULLS by: [entities] [(0, 3)] -->\n",
       "<g id=\"node4\" class=\"node\">\n",
       "<title>DROP_NULLS by: [entities] [(0, 3)]</title>\n",
       "<polygon fill=\"none\" stroke=\"black\" points=\"327.5,-413 114.5,-413 114.5,-377 327.5,-377 327.5,-413\"/>\n",
       "<text text-anchor=\"middle\" x=\"221\" y=\"-391.3\" font-family=\"Times,serif\" font-size=\"14.00\">DROP_NULLS by: [entities]</text>\n",
       "</g>\n",
       "<!-- AGG [count()]\n",
       "BY\n",
       "[col(&quot;entities&quot;)] [(0, 2)] [(0, 2)]&#45;&#45;DROP_NULLS by: [entities] [(0, 3)] -->\n",
       "<g id=\"edge3\" class=\"edge\">\n",
       "<title>AGG [count()]\n",
       "BY\n",
       "[col(&quot;entities&quot;)] [(0, 2)] [(0, 2)]--DROP_NULLS by: [entities] [(0, 3)]</title>\n",
       "<path fill=\"none\" stroke=\"black\" d=\"M221,-448.8C221,-437.17 221,-423.74 221,-413.33\"/>\n",
       "</g>\n",
       "<!-- EXPLODE [(0, 4)] -->\n",
       "<g id=\"node5\" class=\"node\">\n",
       "<title>EXPLODE [(0, 4)]</title>\n",
       "<polygon fill=\"none\" stroke=\"black\" points=\"265.5,-341 176.5,-341 176.5,-305 265.5,-305 265.5,-341\"/>\n",
       "<text text-anchor=\"middle\" x=\"221\" y=\"-319.3\" font-family=\"Times,serif\" font-size=\"14.00\">EXPLODE</text>\n",
       "</g>\n",
       "<!-- DROP_NULLS by: [entities] [(0, 3)]&#45;&#45;EXPLODE [(0, 4)] -->\n",
       "<g id=\"edge4\" class=\"edge\">\n",
       "<title>DROP_NULLS by: [entities] [(0, 3)]--EXPLODE [(0, 4)]</title>\n",
       "<path fill=\"none\" stroke=\"black\" d=\"M221,-376.7C221,-365.85 221,-351.92 221,-341.1\"/>\n",
       "</g>\n",
       "<!-- FAST_PROJECT: [entities] [(0, 5)] -->\n",
       "<g id=\"node6\" class=\"node\">\n",
       "<title>FAST_PROJECT: [entities] [(0, 5)]</title>\n",
       "<polygon fill=\"none\" stroke=\"black\" points=\"321,-269 121,-269 121,-233 321,-233 321,-269\"/>\n",
       "<text text-anchor=\"middle\" x=\"221\" y=\"-247.3\" font-family=\"Times,serif\" font-size=\"14.00\">FAST_PROJECT: [entities]</text>\n",
       "</g>\n",
       "<!-- EXPLODE [(0, 4)]&#45;&#45;FAST_PROJECT: [entities] [(0, 5)] -->\n",
       "<g id=\"edge5\" class=\"edge\">\n",
       "<title>EXPLODE [(0, 4)]--FAST_PROJECT: [entities] [(0, 5)]</title>\n",
       "<path fill=\"none\" stroke=\"black\" d=\"M221,-304.7C221,-293.85 221,-279.92 221,-269.1\"/>\n",
       "</g>\n",
       "<!-- WITH COLUMNS [&quot;entities&quot;] [(0, 6)] -->\n",
       "<g id=\"node7\" class=\"node\">\n",
       "<title>WITH COLUMNS [&quot;entities&quot;] [(0, 6)]</title>\n",
       "<polygon fill=\"none\" stroke=\"black\" points=\"332,-197 110,-197 110,-161 332,-161 332,-197\"/>\n",
       "<text text-anchor=\"middle\" x=\"221\" y=\"-175.3\" font-family=\"Times,serif\" font-size=\"14.00\">WITH COLUMNS [&quot;entities&quot;]</text>\n",
       "</g>\n",
       "<!-- FAST_PROJECT: [entities] [(0, 5)]&#45;&#45;WITH COLUMNS [&quot;entities&quot;] [(0, 6)] -->\n",
       "<g id=\"edge6\" class=\"edge\">\n",
       "<title>FAST_PROJECT: [entities] [(0, 5)]--WITH COLUMNS [&quot;entities&quot;] [(0, 6)]</title>\n",
       "<path fill=\"none\" stroke=\"black\" d=\"M221,-232.7C221,-221.85 221,-207.92 221,-197.1\"/>\n",
       "</g>\n",
       "<!-- WITH COLUMNS [&quot;sentence&quot;] [(0, 7)] -->\n",
       "<g id=\"node8\" class=\"node\">\n",
       "<title>WITH COLUMNS [&quot;sentence&quot;] [(0, 7)]</title>\n",
       "<polygon fill=\"none\" stroke=\"black\" points=\"337,-125 105,-125 105,-89 337,-89 337,-125\"/>\n",
       "<text text-anchor=\"middle\" x=\"221\" y=\"-103.3\" font-family=\"Times,serif\" font-size=\"14.00\">WITH COLUMNS [&quot;sentence&quot;]</text>\n",
       "</g>\n",
       "<!-- WITH COLUMNS [&quot;entities&quot;] [(0, 6)]&#45;&#45;WITH COLUMNS [&quot;sentence&quot;] [(0, 7)] -->\n",
       "<g id=\"edge7\" class=\"edge\">\n",
       "<title>WITH COLUMNS [&quot;entities&quot;] [(0, 6)]--WITH COLUMNS [&quot;sentence&quot;] [(0, 7)]</title>\n",
       "<path fill=\"none\" stroke=\"black\" d=\"M221,-160.7C221,-149.85 221,-135.92 221,-125.1\"/>\n",
       "</g>\n",
       "<!-- Csv SCAN out/jazeera_sentences_sink_shortened_titles.csv;\n",
       "π 1/4;\n",
       "σ &#45; [(0, 8)] -->\n",
       "<g id=\"node9\" class=\"node\">\n",
       "<title>Csv SCAN out/jazeera_sentences_sink_shortened_titles.csv;\n",
       "π 1/4;\n",
       "σ - [(0, 8)]</title>\n",
       "<polygon fill=\"none\" stroke=\"black\" points=\"442,-53 0,-53 0,0 442,0 442,-53\"/>\n",
       "<text text-anchor=\"middle\" x=\"221\" y=\"-37.8\" font-family=\"Times,serif\" font-size=\"14.00\">Csv SCAN out/jazeera_sentences_sink_shortened_titles.csv;</text>\n",
       "<text text-anchor=\"middle\" x=\"221\" y=\"-22.8\" font-family=\"Times,serif\" font-size=\"14.00\">π 1/4;</text>\n",
       "<text text-anchor=\"middle\" x=\"221\" y=\"-7.8\" font-family=\"Times,serif\" font-size=\"14.00\">σ -</text>\n",
       "</g>\n",
       "<!-- WITH COLUMNS [&quot;sentence&quot;] [(0, 7)]&#45;&#45;Csv SCAN out/jazeera_sentences_sink_shortened_titles.csv;\n",
       "π 1/4;\n",
       "σ &#45; [(0, 8)] -->\n",
       "<g id=\"edge8\" class=\"edge\">\n",
       "<title>WITH COLUMNS [&quot;sentence&quot;] [(0, 7)]--Csv SCAN out/jazeera_sentences_sink_shortened_titles.csv;\n",
       "π 1/4;\n",
       "σ - [(0, 8)]</title>\n",
       "<path fill=\"none\" stroke=\"black\" d=\"M221,-88.97C221,-78.51 221,-64.9 221,-53.16\"/>\n",
       "</g>\n",
       "</g>\n",
       "</svg>"
      ],
      "text/plain": [
       "<IPython.core.display.SVG object>"
      ]
     },
     "metadata": {},
     "output_type": "display_data"
    }
   ],
   "source": [
    "sents_containing.show_graph()"
   ]
  },
  {
   "cell_type": "code",
   "execution_count": 11,
   "metadata": {},
   "outputs": [],
   "source": [
    "sid = SentimentIntensityAnalyzer()\n",
    "\n",
    "\n",
    "sentiments = sents_containing.explode(\"sentences\").explode(\"sentences\").with_columns(pl.col(\"sentences\").map_elements(lambda sent: sid.polarity_scores(sent)).alias(\"sentiment\")).unnest(\"sentiment\")\n",
    "top_200_sentiments = sentiments.collect().group_by(\"entities\").mean().sort(\"count\", descending=True)"
   ]
  },
  {
   "cell_type": "code",
   "execution_count": 12,
   "metadata": {},
   "outputs": [
    {
     "data": {
      "text/html": [
       "<div><style>\n",
       ".dataframe > thead > tr,\n",
       ".dataframe > tbody > tr {\n",
       "  text-align: right;\n",
       "  white-space: pre-wrap;\n",
       "}\n",
       "</style>\n",
       "<small>shape: (200, 7)</small><table border=\"1\" class=\"dataframe\"><thead><tr><th>entities</th><th>count</th><th>sentences</th><th>neg</th><th>neu</th><th>pos</th><th>compound</th></tr><tr><td>str</td><td>f64</td><td>str</td><td>f64</td><td>f64</td><td>f64</td><td>f64</td></tr></thead><tbody><tr><td>&quot;qatar&quot;</td><td>5581.0</td><td>null</td><td>0.051327</td><td>0.871437</td><td>0.077235</td><td>0.093202</td></tr><tr><td>&quot;al jazeera&quot;</td><td>4596.0</td><td>null</td><td>0.020274</td><td>0.947274</td><td>0.032453</td><td>0.040993</td></tr><tr><td>&quot;english&quot;</td><td>3198.0</td><td>null</td><td>0.009171</td><td>0.972256</td><td>0.018574</td><td>0.032813</td></tr><tr><td>&quot;fifa&quot;</td><td>1685.0</td><td>null</td><td>0.046266</td><td>0.879515</td><td>0.074218</td><td>0.106352</td></tr><tr><td>&quot;second&quot;</td><td>1376.0</td><td>null</td><td>0.05192</td><td>0.855024</td><td>0.093053</td><td>0.14968</td></tr><tr><td>&quot;saudi arabia&quot;</td><td>1291.0</td><td>null</td><td>0.062685</td><td>0.858133</td><td>0.079174</td><td>0.062736</td></tr><tr><td>&quot;arab&quot;</td><td>1253.0</td><td>null</td><td>0.05643</td><td>0.860789</td><td>0.082769</td><td>0.090735</td></tr><tr><td>&quot;argentina&quot;</td><td>1240.0</td><td>null</td><td>0.04662</td><td>0.84314</td><td>0.110236</td><td>0.219186</td></tr><tr><td>&quot;brazil&quot;</td><td>1163.0</td><td>null</td><td>0.047229</td><td>0.854287</td><td>0.098488</td><td>0.174088</td></tr><tr><td>&quot;france&quot;</td><td>1073.0</td><td>null</td><td>0.047814</td><td>0.854249</td><td>0.097952</td><td>0.171683</td></tr><tr><td>&quot;2022&quot;</td><td>1048.0</td><td>null</td><td>0.037641</td><td>0.897053</td><td>0.065306</td><td>0.106378</td></tr><tr><td>&quot;year&quot;</td><td>1019.0</td><td>null</td><td>0.055859</td><td>0.864102</td><td>0.080039</td><td>0.086832</td></tr><tr><td>&hellip;</td><td>&hellip;</td><td>&hellip;</td><td>&hellip;</td><td>&hellip;</td><td>&hellip;</td><td>&hellip;</td></tr><tr><td>&quot;sweden&quot;</td><td>125.0</td><td>null</td><td>0.044942</td><td>0.862474</td><td>0.092583</td><td>0.160127</td></tr><tr><td>&quot;south american…</td><td>125.0</td><td>null</td><td>0.045981</td><td>0.850431</td><td>0.103581</td><td>0.208878</td></tr><tr><td>&quot;14&quot;</td><td>125.0</td><td>null</td><td>0.053032</td><td>0.876426</td><td>0.070542</td><td>0.067525</td></tr><tr><td>&quot;6&quot;</td><td>124.0</td><td>null</td><td>0.048262</td><td>0.874773</td><td>0.076968</td><td>0.118128</td></tr><tr><td>&quot;2012&quot;</td><td>124.0</td><td>null</td><td>0.066339</td><td>0.857113</td><td>0.076526</td><td>0.04993</td></tr><tr><td>&quot;muslims&quot;</td><td>123.0</td><td>null</td><td>0.082746</td><td>0.845791</td><td>0.071463</td><td>-0.066055</td></tr><tr><td>&quot;hama&quot;</td><td>123.0</td><td>null</td><td>0.069971</td><td>0.872526</td><td>0.057487</td><td>-0.040998</td></tr><tr><td>&quot;juventus&quot;</td><td>122.0</td><td>null</td><td>0.054289</td><td>0.845954</td><td>0.099789</td><td>0.199054</td></tr><tr><td>&quot;2002&quot;</td><td>121.0</td><td>null</td><td>0.033443</td><td>0.874676</td><td>0.091892</td><td>0.234112</td></tr><tr><td>&quot;hamas&quot;</td><td>121.0</td><td>null</td><td>0.107746</td><td>0.828164</td><td>0.06407</td><td>-0.153363</td></tr><tr><td>&quot;minute&quot;</td><td>120.0</td><td>null</td><td>0.057272</td><td>0.868132</td><td>0.074593</td><td>0.075593</td></tr><tr><td>&quot;1998&quot;</td><td>120.0</td><td>null</td><td>0.045798</td><td>0.857917</td><td>0.096274</td><td>0.209689</td></tr></tbody></table></div>"
      ],
      "text/plain": [
       "shape: (200, 7)\n",
       "┌────────────┬────────┬───────────┬──────────┬──────────┬──────────┬───────────┐\n",
       "│ entities   ┆ count  ┆ sentences ┆ neg      ┆ neu      ┆ pos      ┆ compound  │\n",
       "│ ---        ┆ ---    ┆ ---       ┆ ---      ┆ ---      ┆ ---      ┆ ---       │\n",
       "│ str        ┆ f64    ┆ str       ┆ f64      ┆ f64      ┆ f64      ┆ f64       │\n",
       "╞════════════╪════════╪═══════════╪══════════╪══════════╪══════════╪═══════════╡\n",
       "│ qatar      ┆ 5581.0 ┆ null      ┆ 0.051327 ┆ 0.871437 ┆ 0.077235 ┆ 0.093202  │\n",
       "│ al jazeera ┆ 4596.0 ┆ null      ┆ 0.020274 ┆ 0.947274 ┆ 0.032453 ┆ 0.040993  │\n",
       "│ english    ┆ 3198.0 ┆ null      ┆ 0.009171 ┆ 0.972256 ┆ 0.018574 ┆ 0.032813  │\n",
       "│ fifa       ┆ 1685.0 ┆ null      ┆ 0.046266 ┆ 0.879515 ┆ 0.074218 ┆ 0.106352  │\n",
       "│ …          ┆ …      ┆ …         ┆ …        ┆ …        ┆ …        ┆ …         │\n",
       "│ 2002       ┆ 121.0  ┆ null      ┆ 0.033443 ┆ 0.874676 ┆ 0.091892 ┆ 0.234112  │\n",
       "│ hamas      ┆ 121.0  ┆ null      ┆ 0.107746 ┆ 0.828164 ┆ 0.06407  ┆ -0.153363 │\n",
       "│ minute     ┆ 120.0  ┆ null      ┆ 0.057272 ┆ 0.868132 ┆ 0.074593 ┆ 0.075593  │\n",
       "│ 1998       ┆ 120.0  ┆ null      ┆ 0.045798 ┆ 0.857917 ┆ 0.096274 ┆ 0.209689  │\n",
       "└────────────┴────────┴───────────┴──────────┴──────────┴──────────┴───────────┘"
      ]
     },
     "execution_count": 12,
     "metadata": {},
     "output_type": "execute_result"
    }
   ],
   "source": [
    "top_200_sentiments.write_csv(\"../../data/top_200_entity_sents.csv\")\n",
    "top_200_sentiments"
   ]
  },
  {
   "cell_type": "markdown",
   "metadata": {},
   "source": [
    "## Pos Tagging and filtering"
   ]
  },
  {
   "cell_type": "code",
   "execution_count": 24,
   "metadata": {},
   "outputs": [
    {
     "data": {
      "text/plain": [
       "8"
      ]
     },
     "execution_count": 24,
     "metadata": {},
     "output_type": "execute_result"
    }
   ],
   "source": []
  },
  {
   "cell_type": "code",
   "execution_count": 25,
   "metadata": {},
   "outputs": [],
   "source": [
    "df = pl.read_csv(\"../../data/jazeera_qatar_fifa_2010-2023/articles.csv\")"
   ]
  },
  {
   "cell_type": "code",
   "execution_count": 41,
   "metadata": {},
   "outputs": [
    {
     "name": "stderr",
     "output_type": "stream",
     "text": [
      "100%|██████████| 916/916 [04:12<00:00,  3.63it/s]  \n"
     ]
    }
   ],
   "source": [
    "hist = dict()\n",
    "articles = df.select(\"paragraphs_text\").with_columns(pl.col(\"paragraphs_text\").str.to_lowercase()).filter(pl.col(\"paragraphs_text\").str.contains(\"fifa\")).to_numpy()[:,0]\n",
    "for doc in tqdm(articles):\n",
    "    doc = nlp(doc)\n",
    "    pos = [token.pos_ for token in doc]\n",
    "    nouns = [token.text for token in doc if token.pos_ == \"NOUN\"]\n",
    "    for noun in nouns:\n",
    "    \n",
    "        if noun not in hist:\n",
    "            hist[noun] = 0\n",
    "        hist[noun] += 1\n"
   ]
  },
  {
   "cell_type": "code",
   "execution_count": 46,
   "metadata": {},
   "outputs": [
    {
     "data": {
      "text/html": [
       "<div><style>\n",
       ".dataframe > thead > tr,\n",
       ".dataframe > tbody > tr {\n",
       "  text-align: right;\n",
       "  white-space: pre-wrap;\n",
       "}\n",
       "</style>\n",
       "<small>shape: (100, 2)</small><table border=\"1\" class=\"dataframe\"><thead><tr><th>noun</th><th>count</th></tr><tr><td>str</td><td>i64</td></tr></thead><tbody><tr><td>&quot;world&quot;</td><td>4631</td></tr><tr><td>&quot;cup&quot;</td><td>3096</td></tr><tr><td>&quot;football&quot;</td><td>2417</td></tr><tr><td>&quot;team&quot;</td><td>1972</td></tr><tr><td>&quot;year&quot;</td><td>1364</td></tr><tr><td>&quot;country&quot;</td><td>1317</td></tr><tr><td>&quot;time&quot;</td><td>1192</td></tr><tr><td>&quot;tournament&quot;</td><td>1153</td></tr><tr><td>&quot;players&quot;</td><td>1115</td></tr><tr><td>&quot;match&quot;</td><td>1059</td></tr><tr><td>&quot;game&quot;</td><td>1058</td></tr><tr><td>&quot;fans&quot;</td><td>918</td></tr><tr><td>&hellip;</td><td>&hellip;</td></tr><tr><td>&quot;money&quot;</td><td>206</td></tr><tr><td>&quot;m&quot;</td><td>204</td></tr><tr><td>&quot;minutes&quot;</td><td>204</td></tr><tr><td>&quot;ties&quot;</td><td>202</td></tr><tr><td>&quot;air&quot;</td><td>198</td></tr><tr><td>&quot;level&quot;</td><td>197</td></tr><tr><td>&quot;report&quot;</td><td>193</td></tr><tr><td>&quot;bid&quot;</td><td>192</td></tr><tr><td>&quot;member&quot;</td><td>190</td></tr><tr><td>&quot;fan&quot;</td><td>189</td></tr><tr><td>&quot;record&quot;</td><td>188</td></tr><tr><td>&quot;war&quot;</td><td>187</td></tr></tbody></table></div>"
      ],
      "text/plain": [
       "shape: (100, 2)\n",
       "┌──────────┬───────┐\n",
       "│ noun     ┆ count │\n",
       "│ ---      ┆ ---   │\n",
       "│ str      ┆ i64   │\n",
       "╞══════════╪═══════╡\n",
       "│ world    ┆ 4631  │\n",
       "│ cup      ┆ 3096  │\n",
       "│ football ┆ 2417  │\n",
       "│ team     ┆ 1972  │\n",
       "│ …        ┆ …     │\n",
       "│ member   ┆ 190   │\n",
       "│ fan      ┆ 189   │\n",
       "│ record   ┆ 188   │\n",
       "│ war      ┆ 187   │\n",
       "└──────────┴───────┘"
      ]
     },
     "execution_count": 46,
     "metadata": {},
     "output_type": "execute_result"
    }
   ],
   "source": [
    "pl.DataFrame({\"noun\": list(hist.keys()), \"count\": list(hist.values())}).sort(\"count\", descending=True).head(100)"
   ]
  },
  {
   "cell_type": "code",
   "execution_count": 21,
   "metadata": {},
   "outputs": [
    {
     "ename": "KeyboardInterrupt",
     "evalue": "",
     "output_type": "error",
     "traceback": [
      "\u001b[0;31m---------------------------------------------------------------------------\u001b[0m",
      "\u001b[0;31mKeyboardInterrupt\u001b[0m                         Traceback (most recent call last)",
      "Cell \u001b[0;32mIn[21], line 3\u001b[0m\n\u001b[1;32m      1\u001b[0m hist \u001b[38;5;241m=\u001b[39m {}\n\u001b[1;32m      2\u001b[0m \u001b[38;5;28;01mfor\u001b[39;00m sent, nouns \u001b[38;5;129;01min\u001b[39;00m lf\u001b[38;5;241m.\u001b[39mselect(\u001b[38;5;124m\"\u001b[39m\u001b[38;5;124mnouns\u001b[39m\u001b[38;5;124m\"\u001b[39m, \u001b[38;5;124m\"\u001b[39m\u001b[38;5;124msentence\u001b[39m\u001b[38;5;124m\"\u001b[39m)\u001b[38;5;241m.\u001b[39mwith_columns(pl\u001b[38;5;241m.\u001b[39mcol(\u001b[38;5;124m\"\u001b[39m\u001b[38;5;124msentence\u001b[39m\u001b[38;5;124m\"\u001b[39m)\u001b[38;5;241m.\u001b[39mstr\u001b[38;5;241m.\u001b[39mto_lowercase())\u001b[38;5;241m.\u001b[39mhead(\u001b[38;5;241m1000\u001b[39m)\u001b[38;5;241m.\u001b[39mcollect()\u001b[38;5;241m.\u001b[39miter_rows():\n\u001b[0;32m----> 3\u001b[0m     \u001b[38;5;28;01mif\u001b[39;00m \u001b[38;5;124m\"\u001b[39m\u001b[38;5;124mfifa\u001b[39m\u001b[38;5;124m\"\u001b[39m \u001b[38;5;129;01min\u001b[39;00m sent: \u001b[38;5;66;03m# Finding if this sentence is about FIFA\u001b[39;00m\n\u001b[1;32m      4\u001b[0m         \u001b[38;5;28;01mfor\u001b[39;00m noun \u001b[38;5;129;01min\u001b[39;00m nouns: \u001b[38;5;66;03m# Updating co-occurence hist\u001b[39;00m\n\u001b[1;32m      5\u001b[0m             \u001b[38;5;28;01mif\u001b[39;00m noun \u001b[38;5;129;01mnot\u001b[39;00m \u001b[38;5;129;01min\u001b[39;00m hist:\n",
      "Cell \u001b[0;32mIn[21], line 3\u001b[0m\n\u001b[1;32m      1\u001b[0m hist \u001b[38;5;241m=\u001b[39m {}\n\u001b[1;32m      2\u001b[0m \u001b[38;5;28;01mfor\u001b[39;00m sent, nouns \u001b[38;5;129;01min\u001b[39;00m lf\u001b[38;5;241m.\u001b[39mselect(\u001b[38;5;124m\"\u001b[39m\u001b[38;5;124mnouns\u001b[39m\u001b[38;5;124m\"\u001b[39m, \u001b[38;5;124m\"\u001b[39m\u001b[38;5;124msentence\u001b[39m\u001b[38;5;124m\"\u001b[39m)\u001b[38;5;241m.\u001b[39mwith_columns(pl\u001b[38;5;241m.\u001b[39mcol(\u001b[38;5;124m\"\u001b[39m\u001b[38;5;124msentence\u001b[39m\u001b[38;5;124m\"\u001b[39m)\u001b[38;5;241m.\u001b[39mstr\u001b[38;5;241m.\u001b[39mto_lowercase())\u001b[38;5;241m.\u001b[39mhead(\u001b[38;5;241m1000\u001b[39m)\u001b[38;5;241m.\u001b[39mcollect()\u001b[38;5;241m.\u001b[39miter_rows():\n\u001b[0;32m----> 3\u001b[0m     \u001b[38;5;28;01mif\u001b[39;00m \u001b[38;5;124m\"\u001b[39m\u001b[38;5;124mfifa\u001b[39m\u001b[38;5;124m\"\u001b[39m \u001b[38;5;129;01min\u001b[39;00m sent: \u001b[38;5;66;03m# Finding if this sentence is about FIFA\u001b[39;00m\n\u001b[1;32m      4\u001b[0m         \u001b[38;5;28;01mfor\u001b[39;00m noun \u001b[38;5;129;01min\u001b[39;00m nouns: \u001b[38;5;66;03m# Updating co-occurence hist\u001b[39;00m\n\u001b[1;32m      5\u001b[0m             \u001b[38;5;28;01mif\u001b[39;00m noun \u001b[38;5;129;01mnot\u001b[39;00m \u001b[38;5;129;01min\u001b[39;00m hist:\n",
      "File \u001b[0;32m_pydevd_bundle/pydevd_cython.pyx:1457\u001b[0m, in \u001b[0;36m_pydevd_bundle.pydevd_cython.SafeCallWrapper.__call__\u001b[0;34m()\u001b[0m\n",
      "File \u001b[0;32m_pydevd_bundle/pydevd_cython.pyx:701\u001b[0m, in \u001b[0;36m_pydevd_bundle.pydevd_cython.PyDBFrame.trace_dispatch\u001b[0;34m()\u001b[0m\n",
      "File \u001b[0;32m_pydevd_bundle/pydevd_cython.pyx:1152\u001b[0m, in \u001b[0;36m_pydevd_bundle.pydevd_cython.PyDBFrame.trace_dispatch\u001b[0;34m()\u001b[0m\n",
      "File \u001b[0;32m_pydevd_bundle/pydevd_cython.pyx:1135\u001b[0m, in \u001b[0;36m_pydevd_bundle.pydevd_cython.PyDBFrame.trace_dispatch\u001b[0;34m()\u001b[0m\n",
      "File \u001b[0;32m_pydevd_bundle/pydevd_cython.pyx:312\u001b[0m, in \u001b[0;36m_pydevd_bundle.pydevd_cython.PyDBFrame.do_wait_suspend\u001b[0;34m()\u001b[0m\n",
      "File \u001b[0;32m~/Projects/demonstrations/multithreaded_scraper/.venv/lib/python3.10/site-packages/debugpy/_vendored/pydevd/pydevd.py:2070\u001b[0m, in \u001b[0;36mPyDB.do_wait_suspend\u001b[0;34m(self, thread, frame, event, arg, exception_type)\u001b[0m\n\u001b[1;32m   2067\u001b[0m             from_this_thread\u001b[38;5;241m.\u001b[39mappend(frame_custom_thread_id)\n\u001b[1;32m   2069\u001b[0m     \u001b[38;5;28;01mwith\u001b[39;00m \u001b[38;5;28mself\u001b[39m\u001b[38;5;241m.\u001b[39m_threads_suspended_single_notification\u001b[38;5;241m.\u001b[39mnotify_thread_suspended(thread_id, thread, stop_reason):\n\u001b[0;32m-> 2070\u001b[0m         keep_suspended \u001b[38;5;241m=\u001b[39m \u001b[38;5;28;43mself\u001b[39;49m\u001b[38;5;241;43m.\u001b[39;49m\u001b[43m_do_wait_suspend\u001b[49m\u001b[43m(\u001b[49m\u001b[43mthread\u001b[49m\u001b[43m,\u001b[49m\u001b[43m \u001b[49m\u001b[43mframe\u001b[49m\u001b[43m,\u001b[49m\u001b[43m \u001b[49m\u001b[43mevent\u001b[49m\u001b[43m,\u001b[49m\u001b[43m \u001b[49m\u001b[43marg\u001b[49m\u001b[43m,\u001b[49m\u001b[43m \u001b[49m\u001b[43msuspend_type\u001b[49m\u001b[43m,\u001b[49m\u001b[43m \u001b[49m\u001b[43mfrom_this_thread\u001b[49m\u001b[43m,\u001b[49m\u001b[43m \u001b[49m\u001b[43mframes_tracker\u001b[49m\u001b[43m)\u001b[49m\n\u001b[1;32m   2072\u001b[0m frames_list \u001b[38;5;241m=\u001b[39m \u001b[38;5;28;01mNone\u001b[39;00m\n\u001b[1;32m   2074\u001b[0m \u001b[38;5;28;01mif\u001b[39;00m keep_suspended:\n\u001b[1;32m   2075\u001b[0m     \u001b[38;5;66;03m# This means that we should pause again after a set next statement.\u001b[39;00m\n",
      "File \u001b[0;32m~/Projects/demonstrations/multithreaded_scraper/.venv/lib/python3.10/site-packages/debugpy/_vendored/pydevd/pydevd.py:2106\u001b[0m, in \u001b[0;36mPyDB._do_wait_suspend\u001b[0;34m(self, thread, frame, event, arg, suspend_type, from_this_thread, frames_tracker)\u001b[0m\n\u001b[1;32m   2103\u001b[0m         \u001b[38;5;28mself\u001b[39m\u001b[38;5;241m.\u001b[39m_call_input_hook()\n\u001b[1;32m   2105\u001b[0m     \u001b[38;5;28mself\u001b[39m\u001b[38;5;241m.\u001b[39mprocess_internal_commands()\n\u001b[0;32m-> 2106\u001b[0m     \u001b[43mtime\u001b[49m\u001b[38;5;241;43m.\u001b[39;49m\u001b[43msleep\u001b[49m\u001b[43m(\u001b[49m\u001b[38;5;241;43m0.01\u001b[39;49m\u001b[43m)\u001b[49m\n\u001b[1;32m   2108\u001b[0m \u001b[38;5;28mself\u001b[39m\u001b[38;5;241m.\u001b[39mcancel_async_evaluation(get_current_thread_id(thread), \u001b[38;5;28mstr\u001b[39m(\u001b[38;5;28mid\u001b[39m(frame)))\n\u001b[1;32m   2110\u001b[0m \u001b[38;5;66;03m# process any stepping instructions\u001b[39;00m\n",
      "\u001b[0;31mKeyboardInterrupt\u001b[0m: "
     ]
    }
   ],
   "source": [
    "hist = {}\n",
    "for sent, nouns in lf.select(\"nouns\", \"sentence\").with_columns(pl.col(\"sentence\").str.to_lowercase()).head(1000).collect().iter_rows():\n",
    "    if \"fifa\" in sent: # Finding if this sentence is about FIFA\n",
    "        for noun in nouns: # Updating co-occurence hist\n",
    "            if noun not in hist:\n",
    "                hist[noun] = 0\n",
    "            else:\n",
    "                hist[noun] += 1\n",
    "            "
   ]
  },
  {
   "cell_type": "code",
   "execution_count": 20,
   "metadata": {},
   "outputs": [
    {
     "data": {
      "text/plain": [
       "{}"
      ]
     },
     "execution_count": 20,
     "metadata": {},
     "output_type": "execute_result"
    }
   ],
   "source": [
    "hist"
   ]
  }
 ],
 "metadata": {
  "kernelspec": {
   "display_name": ".venv",
   "language": "python",
   "name": "python3"
  },
  "language_info": {
   "codemirror_mode": {
    "name": "ipython",
    "version": 3
   },
   "file_extension": ".py",
   "mimetype": "text/x-python",
   "name": "python",
   "nbconvert_exporter": "python",
   "pygments_lexer": "ipython3",
   "version": "3.10.12"
  }
 },
 "nbformat": 4,
 "nbformat_minor": 2
}
