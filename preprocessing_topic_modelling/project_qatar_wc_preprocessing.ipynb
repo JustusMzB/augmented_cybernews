{
 "cells": [
  {
   "cell_type": "code",
   "execution_count": 1,
   "id": "fb8a6c71",
   "metadata": {},
   "outputs": [
    {
     "name": "stderr",
     "output_type": "stream",
     "text": [
      "C:\\Users\\OPEF\\anaconda3\\lib\\site-packages\\pandas\\core\\arrays\\masked.py:60: UserWarning: Pandas requires version '1.3.6' or newer of 'bottleneck' (version '1.3.5' currently installed).\n",
      "  from pandas.core import (\n"
     ]
    }
   ],
   "source": [
    "# Importing libraries\n",
    "import pandas as pd"
   ]
  },
  {
   "cell_type": "markdown",
   "id": "df0866ec",
   "metadata": {},
   "source": [
    "# preparing al jazeera corpus"
   ]
  },
  {
   "cell_type": "code",
   "execution_count": 9,
   "id": "a8c38b49",
   "metadata": {},
   "outputs": [],
   "source": [
    "# Importing corpus\n",
    "df = pd.read_csv('test_snippet_2.csv')\n",
    "\n",
    "# Print head\n",
    "#df.head()"
   ]
  },
  {
   "cell_type": "code",
   "execution_count": 3,
   "id": "b50970a1",
   "metadata": {},
   "outputs": [
    {
     "data": {
      "text/html": [
       "<div>\n",
       "<style scoped>\n",
       "    .dataframe tbody tr th:only-of-type {\n",
       "        vertical-align: middle;\n",
       "    }\n",
       "\n",
       "    .dataframe tbody tr th {\n",
       "        vertical-align: top;\n",
       "    }\n",
       "\n",
       "    .dataframe thead th {\n",
       "        text-align: right;\n",
       "    }\n",
       "</style>\n",
       "<table border=\"1\" class=\"dataframe\">\n",
       "  <thead>\n",
       "    <tr style=\"text-align: right;\">\n",
       "      <th></th>\n",
       "      <th>title</th>\n",
       "      <th>date</th>\n",
       "      <th>url</th>\n",
       "      <th>sentence</th>\n",
       "    </tr>\n",
       "  </thead>\n",
       "  <tbody>\n",
       "    <tr>\n",
       "      <th>0</th>\n",
       "      <td>South Korea wants North punished over football...</td>\n",
       "      <td>2019-10-18</td>\n",
       "      <td>https://www.aljazeera.com/sports/2019/10/18/so...</td>\n",
       "      <td>South Korea’s football association accused the...</td>\n",
       "    </tr>\n",
       "    <tr>\n",
       "      <th>1</th>\n",
       "      <td>South Korea wants North punished over football...</td>\n",
       "      <td>2019-10-18</td>\n",
       "      <td>https://www.aljazeera.com/sports/2019/10/18/so...</td>\n",
       "      <td>The South Korean football association (KFA) ha...</td>\n",
       "    </tr>\n",
       "    <tr>\n",
       "      <th>2</th>\n",
       "      <td>South Korea wants North punished over football...</td>\n",
       "      <td>2019-10-18</td>\n",
       "      <td>https://www.aljazeera.com/sports/2019/10/18/so...</td>\n",
       "      <td>The Seoul-based KFA’s letter to the Asian Foot...</td>\n",
       "    </tr>\n",
       "    <tr>\n",
       "      <th>3</th>\n",
       "      <td>South Korea wants North punished over football...</td>\n",
       "      <td>2019-10-18</td>\n",
       "      <td>https://www.aljazeera.com/sports/2019/10/18/so...</td>\n",
       "      <td>The game, which was cast into media darkness b...</td>\n",
       "    </tr>\n",
       "    <tr>\n",
       "      <th>4</th>\n",
       "      <td>South Korea wants North punished over football...</td>\n",
       "      <td>2019-10-18</td>\n",
       "      <td>https://www.aljazeera.com/sports/2019/10/18/so...</td>\n",
       "      <td>Upon their return, South Korean players said t...</td>\n",
       "    </tr>\n",
       "    <tr>\n",
       "      <th>...</th>\n",
       "      <td>...</td>\n",
       "      <td>...</td>\n",
       "      <td>...</td>\n",
       "      <td>...</td>\n",
       "    </tr>\n",
       "    <tr>\n",
       "      <th>87481</th>\n",
       "      <td>Erdogan open to meeting al-Assad but not to wi...</td>\n",
       "      <td>2023-07-17</td>\n",
       "      <td>https://www.aljazeera.com/news/2023/7/17/erdog...</td>\n",
       "      <td>While tensions between the two countries remai...</td>\n",
       "    </tr>\n",
       "    <tr>\n",
       "      <th>87482</th>\n",
       "      <td>Erdogan open to meeting al-Assad but not to wi...</td>\n",
       "      <td>2023-07-17</td>\n",
       "      <td>https://www.aljazeera.com/news/2023/7/17/erdog...</td>\n",
       "      <td>The restoration of ties with Damascus quickene...</td>\n",
       "    </tr>\n",
       "    <tr>\n",
       "      <th>87483</th>\n",
       "      <td>Erdogan open to meeting al-Assad but not to wi...</td>\n",
       "      <td>2023-07-17</td>\n",
       "      <td>https://www.aljazeera.com/news/2023/7/17/erdog...</td>\n",
       "      <td>On Sunday, Iraq’s prime minister held talks wi...</td>\n",
       "    </tr>\n",
       "    <tr>\n",
       "      <th>87484</th>\n",
       "      <td>Erdogan open to meeting al-Assad but not to wi...</td>\n",
       "      <td>2023-07-17</td>\n",
       "      <td>https://www.aljazeera.com/news/2023/7/17/erdog...</td>\n",
       "      <td>The decision to allow Syria back into the Arab...</td>\n",
       "    </tr>\n",
       "    <tr>\n",
       "      <th>87485</th>\n",
       "      <td>Erdogan open to meeting al-Assad but not to wi...</td>\n",
       "      <td>2023-07-17</td>\n",
       "      <td>https://www.aljazeera.com/news/2023/7/17/erdog...</td>\n",
       "      <td>Follow Al Jazeera English:</td>\n",
       "    </tr>\n",
       "  </tbody>\n",
       "</table>\n",
       "<p>87179 rows × 4 columns</p>\n",
       "</div>"
      ],
      "text/plain": [
       "                                                   title        date  \\\n",
       "0      South Korea wants North punished over football...  2019-10-18   \n",
       "1      South Korea wants North punished over football...  2019-10-18   \n",
       "2      South Korea wants North punished over football...  2019-10-18   \n",
       "3      South Korea wants North punished over football...  2019-10-18   \n",
       "4      South Korea wants North punished over football...  2019-10-18   \n",
       "...                                                  ...         ...   \n",
       "87481  Erdogan open to meeting al-Assad but not to wi...  2023-07-17   \n",
       "87482  Erdogan open to meeting al-Assad but not to wi...  2023-07-17   \n",
       "87483  Erdogan open to meeting al-Assad but not to wi...  2023-07-17   \n",
       "87484  Erdogan open to meeting al-Assad but not to wi...  2023-07-17   \n",
       "87485  Erdogan open to meeting al-Assad but not to wi...  2023-07-17   \n",
       "\n",
       "                                                     url  \\\n",
       "0      https://www.aljazeera.com/sports/2019/10/18/so...   \n",
       "1      https://www.aljazeera.com/sports/2019/10/18/so...   \n",
       "2      https://www.aljazeera.com/sports/2019/10/18/so...   \n",
       "3      https://www.aljazeera.com/sports/2019/10/18/so...   \n",
       "4      https://www.aljazeera.com/sports/2019/10/18/so...   \n",
       "...                                                  ...   \n",
       "87481  https://www.aljazeera.com/news/2023/7/17/erdog...   \n",
       "87482  https://www.aljazeera.com/news/2023/7/17/erdog...   \n",
       "87483  https://www.aljazeera.com/news/2023/7/17/erdog...   \n",
       "87484  https://www.aljazeera.com/news/2023/7/17/erdog...   \n",
       "87485  https://www.aljazeera.com/news/2023/7/17/erdog...   \n",
       "\n",
       "                                                sentence  \n",
       "0      South Korea’s football association accused the...  \n",
       "1      The South Korean football association (KFA) ha...  \n",
       "2      The Seoul-based KFA’s letter to the Asian Foot...  \n",
       "3      The game, which was cast into media darkness b...  \n",
       "4      Upon their return, South Korean players said t...  \n",
       "...                                                  ...  \n",
       "87481  While tensions between the two countries remai...  \n",
       "87482  The restoration of ties with Damascus quickene...  \n",
       "87483  On Sunday, Iraq’s prime minister held talks wi...  \n",
       "87484  The decision to allow Syria back into the Arab...  \n",
       "87485                         Follow Al Jazeera English:  \n",
       "\n",
       "[87179 rows x 4 columns]"
      ]
     },
     "execution_count": 3,
     "metadata": {},
     "output_type": "execute_result"
    }
   ],
   "source": [
    "#removing empty lines\n",
    "df.dropna()"
   ]
  },
  {
   "cell_type": "code",
   "execution_count": 4,
   "id": "e2bdf7b3",
   "metadata": {},
   "outputs": [],
   "source": [
    "#removing contentless Al Jazeera Banner \n",
    "df.drop(df[df['sentence'].str.contains('Follow Al Jazeera English:')| df['sentence'].str.contains('Al Jazeera English:')].index, inplace=True)"
   ]
  },
  {
   "cell_type": "code",
   "execution_count": 5,
   "id": "de5465f0",
   "metadata": {},
   "outputs": [
    {
     "name": "stdout",
     "output_type": "stream",
     "text": [
      "293 fehlerhafte Zeilen gefunden und entfernt.\n"
     ]
    }
   ],
   "source": [
    "#removing incorrect formated lines\n",
    "try:\n",
    "    # Überprüfe und ersetze ungültige Datumsangaben\n",
    "    df['date'] = pd.to_datetime(df['date'], errors='coerce')\n",
    "\n",
    "    # Selektiere Zeilen mit ungültigen Datumsangaben\n",
    "    invalid_rows = df[df['date'].isna()]\n",
    "\n",
    "    # Überprüfe, ob ungültige Zeilen gefunden wurden\n",
    "    if not invalid_rows.empty:\n",
    "        print(f\"{len(invalid_rows)} fehlerhafte Zeilen gefunden und entfernt.\")\n",
    "        # Entferne Zeilen mit NaT in der Spalte 'date'\n",
    "        df = df.dropna(subset=['date'])\n",
    "    else:\n",
    "        print(\"Alle Datumsangaben korrekt.\")\n",
    "except Exception as e:\n",
    "    print(f\"Fehler beim Überprüfen der Datumsangaben: {e}\")"
   ]
  },
  {
   "cell_type": "code",
   "execution_count": 6,
   "id": "e31e6431",
   "metadata": {},
   "outputs": [],
   "source": [
    "#Adding coloumn year\n",
    "df['year'] = pd.to_datetime(df['date']).dt.year"
   ]
  },
  {
   "cell_type": "code",
   "execution_count": 7,
   "id": "f1d1e8f8",
   "metadata": {},
   "outputs": [],
   "source": [
    "# remove liveblog entries without usefull content\n",
    "df_check = df.groupby(['title','year','url'])['sentence'].agg(lambda x: ' '.join(str(val) for val in x if pd.notna(val))).reset_index()\n",
    "df_check.drop(df_check[df_check['url'].str.contains('https://www.aljazeera.com/sports/liveblog')|df_check['url'].str.contains('https://www.aljazeera.com/news/liveblog')].index, inplace=True)"
   ]
  },
  {
   "cell_type": "code",
   "execution_count": 8,
   "id": "22ea4e84",
   "metadata": {},
   "outputs": [],
   "source": [
    "# adding relevance scores to secure that articels are related to our topic \n",
    "# keywords were determined by building a semantic field for the term 'fifa'\n",
    "# context based differentiation between qatar and teh other closer related terms from the semantic field\n",
    "\n",
    "def calculate_score_fifa(text):\n",
    "    keywords = ['fifa', 'world cup', 'blatter', 'infantino']\n",
    "    # Konvertiere Text und Keywords in Kleinbuchstaben für case-sensitive Suche\n",
    "    text_lower = text.lower()\n",
    "    score = sum(text_lower.count(keyword) for keyword in keywords)\n",
    "    return score\n",
    "\n",
    "def calculate_score_qatar(text):\n",
    "    keywords = ['qatar']\n",
    "    # Konvertiere Text und Keywords in Kleinbuchstaben für case-sensitive Suche\n",
    "    text_lower = text.lower()\n",
    "    score = sum(text_lower.count(keyword) for keyword in keywords)\n",
    "    return score\n",
    "\n",
    "# Konvertiere alle Zeichen in der Spalte 'Text' in Kleinbuchstaben\n",
    "df_check['sentence'] = df_check['sentence'].str.lower()\n",
    "\n",
    "# Scores für Tehemnzugehörigkeit und Länge berechnen\n",
    "df_check['score_relevance_fifa'] = df_check['sentence'].apply(calculate_score_fifa)\n",
    "df_check['score_relevance_qatar'] = df_check['sentence'].apply(calculate_score_qatar)\n",
    "df_check['score_article_length'] = df_check['sentence'].str.len()\n",
    "\n",
    "#Ergebnis-Output zu Evaluation der notwendigen thresholds\n",
    "output_check = df_check[['url', 'score_relevance_fifa', 'score_relevance_qatar','score_article_length']].reset_index(drop=True)\n",
    "output_check.to_csv('output_check.csv', index=False)\n",
    "\n",
    "filtered_df = df_check[(df_check['score_article_length'] < 2000) & (df_check['score_relevance_fifa'] > 0) & (df_check['score_relevance_qatar'] > 0) |\n",
    "                 (df_check['score_article_length'] >= 2000) & (df_check['score_article_length'] < 25000) & (df_check['score_relevance_fifa'] > 1) & (df_check['score_relevance_qatar'] > 1)]\n",
    "\n",
    "filtered_df.reset_index(drop=True, inplace=True)\n",
    "\n",
    "grouped_filtered_df = filtered_df[['title', 'year', 'sentence']]\n",
    "#grouped_filtered_df.to_csv('grouped_filtered_df.csv', index=False)"
   ]
  },
  {
   "cell_type": "markdown",
   "id": "7155ff70",
   "metadata": {},
   "source": [
    "# preparing guardian corpus"
   ]
  },
  {
   "cell_type": "code",
   "execution_count": null,
   "id": "156b79a3",
   "metadata": {},
   "outputs": [],
   "source": []
  },
  {
   "cell_type": "markdown",
   "id": "f763dad3",
   "metadata": {},
   "source": [
    "# combining both corpora"
   ]
  },
  {
   "cell_type": "code",
   "execution_count": null,
   "id": "caac74bd",
   "metadata": {},
   "outputs": [],
   "source": []
  }
 ],
 "metadata": {
  "kernelspec": {
   "display_name": "Python 3 (ipykernel)",
   "language": "python",
   "name": "python3"
  },
  "language_info": {
   "codemirror_mode": {
    "name": "ipython",
    "version": 3
   },
   "file_extension": ".py",
   "mimetype": "text/x-python",
   "name": "python",
   "nbconvert_exporter": "python",
   "pygments_lexer": "ipython3",
   "version": "3.10.9"
  }
 },
 "nbformat": 4,
 "nbformat_minor": 5
}
